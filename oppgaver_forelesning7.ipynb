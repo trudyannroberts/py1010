{
 "cells": [
  {
   "cell_type": "markdown",
   "id": "9b1998cd-3c7c-44a7-b2aa-a49c3acab94d",
   "metadata": {},
   "source": [
    "<h1>If-else</h1>"
   ]
  },
  {
   "cell_type": "code",
   "execution_count": 8,
   "id": "aeb8347c-6d0d-4096-9314-2ea88dcf81e8",
   "metadata": {},
   "outputs": [
    {
     "name": "stdin",
     "output_type": "stream",
     "text": [
      "Hvor mange grader celsius? 100\n"
     ]
    },
    {
     "name": "stdout",
     "output_type": "stream",
     "text": [
      "Ved grader 100 er h2o damp\n"
     ]
    }
   ],
   "source": [
    "#Oppg. 7.1\n",
    "\n",
    "#Lag et program som angir i konsollen hvilken fase H2O er i for angitt (innlest) temperatur i grader C. \n",
    "#De alternative fasene er is, vann og damp.\n",
    "\n",
    "def h2o(celcius):\n",
    "    if(celsius <= 0):\n",
    "        return 'is'\n",
    "    elif(0 < celsius < 100):\n",
    "        return 'vann'\n",
    "    else:\n",
    "        return 'damp'\n",
    "\n",
    "celsius = int(input(\"Hvor mange grader celsius?\"))\n",
    "resultat = h2o(celsius)\n",
    "\n",
    "print('Ved grader', celsius, 'er h2o', resultat)\n",
    "\n"
   ]
  },
  {
   "cell_type": "code",
   "execution_count": 31,
   "id": "1d9eb287-9f98-4e89-ac78-af82b6bee400",
   "metadata": {},
   "outputs": [
    {
     "name": "stdin",
     "output_type": "stream",
     "text": [
      "Skriv inn fødselsnummer 15118524133\n"
     ]
    },
    {
     "name": "stdout",
     "output_type": "stream",
     "text": [
      "Du er en gutt\n"
     ]
    }
   ],
   "source": [
    "#Oppg 7.2\n",
    "\n",
    "def finn_kjonn(pNr):\n",
    "    if(pNr % 2 == 0):\n",
    "        return 'jente'\n",
    "    else:\n",
    "        return 'gutt'\n",
    "\n",
    "\n",
    "fNr = input('Skriv inn fødselsnummer')\n",
    "pNr = int(fNr[8])\n",
    "kjonn = finn_kjonn(pNr)\n",
    "\n",
    "print(\"Du er en\", kjonn)\n",
    "\n",
    "\n",
    "               \n",
    "\n"
   ]
  },
  {
   "cell_type": "code",
   "execution_count": 41,
   "id": "435944b4-f773-4748-8432-77a3a0bcfc79",
   "metadata": {},
   "outputs": [
    {
     "name": "stdin",
     "output_type": "stream",
     "text": [
      "Skriv inn x-koordinat:  10\n",
      "Skriv inn y-koordinat:  10\n"
     ]
    },
    {
     "name": "stdout",
     "output_type": "stream",
     "text": [
      "P ligger på 1.\n"
     ]
    }
   ],
   "source": [
    "# Oppg. 7.3\n",
    "\n",
    "def finn_kvadrant(x, y):\n",
    "    if(x > 0 and y > 0):\n",
    "        return '1. aksen'\n",
    "    elif(x < 0 and y > 0):\n",
    "        return '2. aksen'\n",
    "    elif (x < 0 and y < 0):\n",
    "        return '3. aksen'\n",
    "    elif (x > 0 and y < 0):\n",
    "        return '4. aksen'\n",
    "    elif (x == 0 and y == 0):\n",
    "        return 'origo'\n",
    "    elif (x == 0):\n",
    "        return 'y-aksen'\n",
    "    else:\n",
    "        return 'x-aksen'\n",
    "\n",
    "x = int(input(\"Skriv inn x-koordinat: \"))\n",
    "y = int(input(\"Skriv inn y-koordinat: \"))\n",
    "\n",
    "P = finn_kvadrant(x, y)\n",
    "\n",
    "print(\"P ligger på\", P)\n"
   ]
  },
  {
   "cell_type": "code",
   "execution_count": 53,
   "id": "308716a1-f8ca-43e2-b5e6-43184dd15ee1",
   "metadata": {},
   "outputs": [
    {
     "name": "stdin",
     "output_type": "stream",
     "text": [
      "Skriv inn din fart i km/t:  65\n"
     ]
    },
    {
     "name": "stdout",
     "output_type": "stream",
     "text": [
      "Får du bot?\n",
      "Med 65 km/t: 800 kr\n"
     ]
    }
   ],
   "source": [
    "# Oppg. 7.4\n",
    "\n",
    "def utregning_bot(kmT):\n",
    "    if (kmT < 60):\n",
    "        return 'ingen bot'\n",
    "    elif (60 < kmT <= 65):\n",
    "        return '800 kr'\n",
    "    elif (65 < kmT <= 75):\n",
    "        return '2100 kr'\n",
    "    elif (75 < kmT <= 80):\n",
    "        return '3800 kr'\n",
    "    elif (80 < kmT <= 85):\n",
    "        return '8500 kr'\n",
    "    else:\n",
    "        return 'Si adjø til lappen'\n",
    "\n",
    "kmT = int(input(\"Skriv inn din fart i km/t: \"))\n",
    "bot = utregning_bot(kmT)\n",
    "\n",
    "print(\"Får du bot?\")\n",
    "print(\"Med\", kmT, \"km/t:\", bot)"
   ]
  },
  {
   "cell_type": "code",
   "execution_count": 157,
   "id": "fe87ab04-5163-42c5-a1cd-e7da561274e5",
   "metadata": {},
   "outputs": [
    {
     "name": "stdin",
     "output_type": "stream",
     "text": [
      "Skriv inn et klokkeslett i formatet 00:00:  06:00\n"
     ]
    },
    {
     "name": "stdout",
     "output_type": "stream",
     "text": [
      "Kl.slett 06:00 er midnatt\n"
     ]
    }
   ],
   "source": [
    "# Oppg. 7.5\n",
    "\n",
    "def am_pm(time, min):\n",
    "    if (0 <= time <= 11 and 1 <= min <= 59):\n",
    "        return 'a.m.'\n",
    "    elif (12 <= time <= 24):\n",
    "        return 'p.m.'\n",
    "    else:\n",
    "        return 'midnatt'\n",
    "\n",
    "klSlett = input(\"Skriv inn et klokkeslett i formatet 00:00: \")\n",
    "\n",
    "kl_split = klSlett.split(':')\n",
    "time = int(kl_split[0])\n",
    "min = int(kl_split[1])\n",
    "\n",
    "res = am_pm(time, min)\n",
    "\n",
    "print('Kl.slett', klSlett, 'er', res)\n"
   ]
  },
  {
   "cell_type": "code",
   "execution_count": 177,
   "id": "df01e364-63f6-4789-ad43-a86db71c1c96",
   "metadata": {},
   "outputs": [
    {
     "name": "stdin",
     "output_type": "stream",
     "text": [
      "Skriv inn et klokkeslett i formatet 00:00:  03:00\n"
     ]
    },
    {
     "name": "stdout",
     "output_type": "stream",
     "text": [
      "Kl.slett 3:00 er a.m.\n"
     ]
    }
   ],
   "source": [
    "def am_pm(time, minute):\n",
    "    if ((0 <= time <= 12) or (time == 12 and minute == 0)):\n",
    "        return 'a.m.'\n",
    "    elif (12 <= time < 24):\n",
    "        return 'p.m.'\n",
    "\n",
    "def endre_tid(time, minute):\n",
    "    if (time == 0):  # Handle midnight\n",
    "        return f\"12:{minute:02d}\"\n",
    "    elif (time == 12):  # Noon stays the same\n",
    "        return f\"{time}:{minute:02d}\"\n",
    "    elif (time > 12):  # Convert PM hours\n",
    "        return f\"{time - 12}:{minute:02d}\"\n",
    "    else:  # Keep AM hours as they are\n",
    "        return f\"{time}:{minute:02d}\"\n",
    "\n",
    "# Get user input\n",
    "klSlett = input(\"Skriv inn et klokkeslett i formatet 00:00: \")\n",
    "\n",
    "# Split and convert to integers\n",
    "kl_split = klSlett.split(':')\n",
    "time = int(kl_split[0])\n",
    "minute = int(kl_split[1])\n",
    "\n",
    "# Get AM/PM and converted time\n",
    "AmPm = am_pm(time, minute)\n",
    "endret_tid = endre_tid(time, minute)\n",
    "\n",
    "# Print result\n",
    "print(f\"Kl.slett {endret_tid} er {AmPm}\")\n"
   ]
  }
 ],
 "metadata": {
  "kernelspec": {
   "display_name": "Python 3 (ipykernel)",
   "language": "python",
   "name": "python3"
  },
  "language_info": {
   "codemirror_mode": {
    "name": "ipython",
    "version": 3
   },
   "file_extension": ".py",
   "mimetype": "text/x-python",
   "name": "python",
   "nbconvert_exporter": "python",
   "pygments_lexer": "ipython3",
   "version": "3.12.4"
  }
 },
 "nbformat": 4,
 "nbformat_minor": 5
}
