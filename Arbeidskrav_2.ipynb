{
 "cells": [
  {
   "cell_type": "markdown",
   "id": "563b4b5b-32d0-456b-b751-c7cb145329e3",
   "metadata": {},
   "source": [
    "<h1>Arbeidskrav 2</h1>\n",
    "<h2>Skrevet at Trudy Ann Roberts</h2>"
   ]
  },
  {
   "cell_type": "code",
   "execution_count": 13,
   "id": "2b3a8041-8f62-4da3-82ce-cd653182d53f",
   "metadata": {},
   "outputs": [
    {
     "name": "stdin",
     "output_type": "stream",
     "text": [
      "Hvilket år er du født?  1986\n"
     ]
    },
    {
     "name": "stdout",
     "output_type": "stream",
     "text": [
      "Du blir 39 år i 2024\n"
     ]
    }
   ],
   "source": [
    "# Oppg 1\n",
    "\n",
    "alder = int(input('Hvilket år er du født? ') )\n",
    "\n",
    "alderIAar = 2024 - alder + 1\n",
    "\n",
    "print('Du blir', alderIAar, 'år i 2024.')"
   ]
  },
  {
   "cell_type": "code",
   "execution_count": 21,
   "id": "cecc6662-6218-4e16-9f82-9dbe3ae1410a",
   "metadata": {},
   "outputs": [
    {
     "name": "stdin",
     "output_type": "stream",
     "text": [
      "Skriv inn antall elever: 10\n"
     ]
    },
    {
     "name": "stdout",
     "output_type": "stream",
     "text": [
      "Det må handles 3 pizzaer til festen\n"
     ]
    }
   ],
   "source": [
    "# Oppg 2\n",
    "\n",
    "import math\n",
    "\n",
    "antall_elever = int(input('Skriv inn antall elever:' ))\n",
    "\n",
    "antall_pizza = math.ceil(antall_elever / 4)\n",
    "\n",
    "print('Det må handles', antall_pizza, 'pizzaer til festen')\n"
   ]
  },
  {
   "cell_type": "code",
   "execution_count": 43,
   "id": "96e81995-60d0-49f5-bbb1-a4491d679958",
   "metadata": {},
   "outputs": [
    {
     "name": "stdin",
     "output_type": "stream",
     "text": [
      "Skriv inn gradtallet: 10\n"
     ]
    },
    {
     "name": "stdout",
     "output_type": "stream",
     "text": [
      "Vinkelen 10.0 grader tilsvarer 0.17 radianer.\n"
     ]
    }
   ],
   "source": [
    "# Oppg 3\n",
    "\n",
    "import numpy as np\n",
    "\n",
    "def grader_til_radianer(v_grad):\n",
    "    v_rad = v_grad*np.pi/180\n",
    "    return v_rad\n",
    "\n",
    "v_grad = float(input('Skriv inn gradtallet:' ))\n",
    "\n",
    "v_rad = grader_til_radianer(v_grad)\n",
    "\n",
    "print(f\"Vinkelen {v_grad} grader tilsvarer {v_rad:.2f} radianer.\")\n"
   ]
  },
  {
   "cell_type": "code",
   "execution_count": 5,
   "id": "a59f6c39-ea4c-4816-bf88-7020da3e5d16",
   "metadata": {},
   "outputs": [
    {
     "name": "stdin",
     "output_type": "stream",
     "text": [
      "Skriv inn et land: Frankrike\n"
     ]
    },
    {
     "name": "stdout",
     "output_type": "stream",
     "text": [
      "Paris er hovedstaden i Frankrike og det er 2.161 millioner innbyggere i Paris\n"
     ]
    }
   ],
   "source": [
    "# Oppg 4a + b\n",
    "\n",
    "data = {\n",
    "    'Norge':['Oslo', 0.634],\n",
    "    'England':['London', 8.982],\n",
    "    'Frankrike':['Paris', 2.161],\n",
    "    'Italia':['Roma', 2.873]\n",
    "    }\n",
    "\n",
    "land = (input('Skriv inn et land:' ))\n",
    "\n",
    "hovedstad, innbyggere = data[land]\n",
    "\n",
    "print(hovedstad, 'er hovedstaden i', land, 'og det er', innbyggere, 'millioner innbyggere i', hovedstad)"
   ]
  },
  {
   "cell_type": "code",
   "execution_count": 2,
   "id": "e1f1a296-2c51-4a2d-abf2-f577a24facc4",
   "metadata": {},
   "outputs": [
    {
     "name": "stdin",
     "output_type": "stream",
     "text": [
      "Skriv inn et land: Tyskland\n",
      "Skriv inn en hovedstad: Berlin\n",
      "Skriv inn innbyggertall: 3.000\n"
     ]
    },
    {
     "name": "stdout",
     "output_type": "stream",
     "text": [
      "{'Norge': ['Oslo', 0.634], 'England': ['London', 8.982], 'Franrike': ['Paris', 2.161], 'Italia': ['Roma', 2.873], 'Tyskland': ['Berlin', '3.000']}\n"
     ]
    }
   ],
   "source": [
    "# Oppg 4c\n",
    "\n",
    "data = {\n",
    "    'Norge':['Oslo', 0.634],\n",
    "    'England':['London', 8.982],\n",
    "    'Franrike':['Paris', 2.161],\n",
    "    'Italia':['Roma', 2.873]\n",
    "    }\n",
    "\n",
    "land = (input('Skriv inn et land:' ))\n",
    "hovedstad = (input('Skriv inn en hovedstad:' ))\n",
    "innbyggere = (input('Skriv inn innbyggertall:' ))\n",
    "\n",
    "data[land] = [hovedstad, innbyggere]\n",
    "\n",
    "print(data)"
   ]
  },
  {
   "cell_type": "code",
   "execution_count": 63,
   "id": "ca06b45c-f29f-43aa-be84-ff9e1fa97ba8",
   "metadata": {},
   "outputs": [
    {
     "name": "stdin",
     "output_type": "stream",
     "text": [
      "Skriv diameter for halvsirkel: 10\n",
      "Skriv lengde på trekant 10\n"
     ]
    },
    {
     "name": "stdout",
     "output_type": "stream",
     "text": [
      "Arealet på figuren er, 89.27\n",
      "Omkretsen på figuren er, 39.85\n"
     ]
    }
   ],
   "source": [
    "# Oppg 5\n",
    "\n",
    "import numpy as np\n",
    "\n",
    "def areal_og_omkrets(a, b):\n",
    "    r = a/2\n",
    "    halvsirkel_areal = (np.pi*r**2)/2\n",
    "    halvsirkel_omkrets = 2*(np.pi*r)/2\n",
    "\n",
    "    trekant_areal = (a*b)/2\n",
    "    trekant_c_kvadratrot = a**2 + b**2\n",
    "    trekant_c= np.sqrt(trekant_c_kvadratrot)\n",
    "\n",
    "    resultat_areal = halvsirkel_areal + trekant_areal\n",
    "\n",
    "    resultat_omkrets = halvsirkel_omkrets + b + trekant_c\n",
    "   \n",
    "    return resultat_areal, resultat_omkrets\n",
    "    \n",
    "a = int((input(\"Skriv diameter for halvsirkel:\")))\n",
    "b = int((input(\"Skriv lengde på trekant\")))\n",
    "x = areal_og_omkrets(a, b)\n",
    "print(f\"Arealet på figuren er, {x[0]:.2f}\")\n",
    "print(f\"Omkretsen på figuren er, {x[1]:.2f}\")"
   ]
  },
  {
   "cell_type": "code",
   "execution_count": 34,
   "id": "a5d4e90a-e7e0-4285-8133-61aec3b61dad",
   "metadata": {},
   "outputs": [
    {
     "data": {
      "image/png": "[encoded data removed]",
      "text/plain": [
       "<Figure size 640x480 with 1 Axes>"
      ]
     },
     "metadata": {},
     "output_type": "display_data"
    }
   ],
   "source": [
    "# Oppg 6\n",
    "\n",
    "import numpy as np\n",
    "import matplotlib.pyplot as plt\n",
    "\n",
    "def f(x):\n",
    "    return -x**2 - 5\n",
    "\n",
    "x = np.linspace(-10, 10, 100)\n",
    "y=f(x)\n",
    "\n",
    "plt.plot(x, y, 'c')\n",
    "\n",
    "plt.grid()\n",
    "\n",
    "plt.show()\n"
   ]
  }
 ],
 "metadata": {
  "kernelspec": {
   "display_name": "Python 3 (ipykernel)",
   "language": "python",
   "name": "python3"
  },
  "language_info": {
   "codemirror_mode": {
    "name": "ipython",
    "version": 3
   },
   "file_extension": ".py",
   "mimetype": "text/x-python",
   "name": "python",
   "nbconvert_exporter": "python",
   "pygments_lexer": "ipython3",
   "version": "3.12.4"
  }
 },
 "nbformat": 4,
 "nbformat_minor": 5
}
